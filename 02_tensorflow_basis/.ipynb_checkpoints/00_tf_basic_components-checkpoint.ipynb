{
 "cells": [
  {
   "cell_type": "code",
   "execution_count": 3,
   "metadata": {
    "collapsed": true
   },
   "outputs": [],
   "source": [
    "import tensorflow as tf\n",
    "import numpy as np\n",
    "import matplotlib.pyplot as plt"
   ]
  },
  {
   "cell_type": "markdown",
   "metadata": {},
   "source": [
    "## Data Rank"
   ]
  },
  {
   "cell_type": "code",
   "execution_count": 4,
   "metadata": {
    "collapsed": false
   },
   "outputs": [
    {
     "name": "stdout",
     "output_type": "stream",
     "text": [
      "()\n",
      "(3,)\n",
      "(2, 3)\n",
      "(2, 1, 3)\n"
     ]
    }
   ],
   "source": [
    "# a rank 0 tensor; a scalar with shape [],\n",
    "print(np.array(3.).shape) \n",
    "\n",
    "# a rank 1 tensor; a vector with shape [3]\n",
    "print(np.array([1., 2., 3.]).shape) \n",
    "\n",
    "# a rank 2 tensor; a matrix with shape [2, 3]\n",
    "print(np.array([[1., 2., 3.], [4., 5., 6.]]).shape) \n",
    "\n",
    "# a rank 3 tensor with shape [2, 1, 3]\n",
    "print(np.array([[[1., 2., 3.]], [[7., 8., 9.]]]).shape) "
   ]
  },
  {
   "cell_type": "markdown",
   "metadata": {},
   "source": [
    "## Tensor\n",
    "A generlization of vectors and matrices with n-dimensions and various data types\n",
    "\n",
    "### In tensorflow, data vector / matrices are similar to numpy array\n",
    "- constant\n",
    "- variable\n",
    "- placeholder\n",
    "\n",
    "### In tensorflow, we have to convert eveything into \"Tensor\" !!"
   ]
  },
  {
   "cell_type": "markdown",
   "metadata": {},
   "source": [
    "## Before everything start, just remember ...\n",
    "1. graph = container\n",
    "2. sess = liquid\n",
    "\n",
    "## Constant, Placeholder, and Variables\n",
    "1. constant: fixed item. the value cannot be changed during training\n",
    "2. placeholder: we can pass item to the graph interactively. (common used for input, ground truth label, and other flags)\n",
    "3. variable: dynamic item. the value can be changed during training. (need to be initialized for each session)"
   ]
  },
  {
   "cell_type": "code",
   "execution_count": 6,
   "metadata": {
    "collapsed": false
   },
   "outputs": [
    {
     "name": "stdout",
     "output_type": "stream",
     "text": [
      "Tensor(\"Const_1:0\", shape=(2, 2), dtype=float32)\n",
      "[[ 1.  2.]\n",
      " [ 3.  4.]]\n"
     ]
    }
   ],
   "source": [
    "sess = tf.Session() # start a session\n",
    "\n",
    "# constant: fixed item, rarely used, the value cannot be changed during training\n",
    "a = tf.constant([[1, 2], [3, 4]], dtype=tf.float32)\n",
    "print(a)\n",
    "print(sess.run(a))"
   ]
  },
  {
   "cell_type": "code",
   "execution_count": 9,
   "metadata": {
    "collapsed": false
   },
   "outputs": [
    {
     "data": {
      "text/plain": [
       "array([ 1.,  1.], dtype=float32)"
      ]
     },
     "execution_count": 9,
     "metadata": {},
     "output_type": "execute_result"
    }
   ],
   "source": [
    "# placeholder: used very often!\n",
    "b = tf.placeholder(shape=[2], dtype=tf.float32)\n",
    "\n",
    "my_input_array = np.array([1,1])\n",
    "\n",
    "sess.run(b, feed_dict={b: my_input_array })\n"
   ]
  },
  {
   "cell_type": "code",
   "execution_count": 11,
   "metadata": {
    "collapsed": false
   },
   "outputs": [
    {
     "data": {
      "text/plain": [
       "array([[ 1.,  2.],\n",
       "       [ 3.,  4.]], dtype=float32)"
      ]
     },
     "execution_count": 11,
     "metadata": {},
     "output_type": "execute_result"
    }
   ],
   "source": [
    "# variable: we alwayes use this. the value can change during training\n",
    "c = tf.Variable([[1, 2], [3, 4]], dtype=tf.float32)\n",
    "\n",
    "# initial variables: \n",
    "init = tf.global_variables_initializer()\n",
    "sess.run(init)\n",
    "\n",
    "sess.run(c)"
   ]
  },
  {
   "cell_type": "markdown",
   "metadata": {},
   "source": [
    "## Simple operations examples"
   ]
  },
  {
   "cell_type": "code",
   "execution_count": 12,
   "metadata": {
    "collapsed": false
   },
   "outputs": [
    {
     "name": "stdout",
     "output_type": "stream",
     "text": [
      "[[ 19.  22.]\n",
      " [ 43.  50.]]\n",
      "---\n",
      "[[  5.  12.]\n",
      " [ 21.  32.]]\n",
      "---\n",
      "[[  6.   8.]\n",
      " [ 10.  12.]]\n"
     ]
    }
   ],
   "source": [
    "x1 = tf.Variable([[1,2], [3,4]], dtype= tf.float32)\n",
    "x2 = tf.Variable([[5,6], [7,8]], dtype= tf.float32)\n",
    "\n",
    "mat_mul_ops = tf.matmul(x1, x2) # np.dot\n",
    "element_wise_mul_ops = tf.multiply(x1, x2) # element-wise mul\n",
    "add_ops = tf.add(x1, x2)\n",
    "\n",
    "init = tf.global_variables_initializer()\n",
    "sess.run(init)\n",
    "\n",
    "res1, res2, res3 = sess.run([mat_mul_ops, element_wise_mul_ops, add_ops])\n",
    "print(res1)\n",
    "print(\"---\")\n",
    "print(res2)\n",
    "print(\"---\")\n",
    "print(res3)"
   ]
  },
  {
   "cell_type": "code",
   "execution_count": 13,
   "metadata": {
    "collapsed": false
   },
   "outputs": [
    {
     "name": "stdout",
     "output_type": "stream",
     "text": [
      "[[ 1.  2.]\n",
      " [ 3.  4.]]\n",
      "---\n",
      "[ 4.  6.]\n",
      "[ 3.  7.]\n",
      "10.0\n",
      "[ 2.  3.]\n",
      "[ 1.5  3.5]\n",
      "2.5\n"
     ]
    }
   ],
   "source": [
    "take_sum_1 = tf.reduce_sum(x1, axis=0) # np.sum\n",
    "take_sum_2 = tf.reduce_sum(x1, axis=1)\n",
    "take_sum_3 = tf.reduce_sum(x1)\n",
    "take_mean_1 = tf.reduce_mean(x1, axis = 0) # np.mean\n",
    "take_mean_2 = tf.reduce_mean(x1, axis = 1)\n",
    "take_mean_3 = tf.reduce_mean(x1)\n",
    "\n",
    "sess.run(tf.global_variables_initializer())\n",
    "print(sess.run(x1))\n",
    "print('---')\n",
    "print(sess.run(take_sum_1))\n",
    "print(sess.run(take_sum_2))\n",
    "print(sess.run(take_sum_3))\n",
    "print(sess.run(take_mean_1))\n",
    "print(sess.run(take_mean_2))\n",
    "print(sess.run(take_mean_3))\n"
   ]
  },
  {
   "cell_type": "code",
   "execution_count": 15,
   "metadata": {
    "collapsed": false
   },
   "outputs": [
    {
     "name": "stdout",
     "output_type": "stream",
     "text": [
      "0\n",
      "0\n",
      "0\n",
      "0\n",
      "0\n",
      "0\n",
      "0\n",
      "0\n",
      "0\n",
      "0\n"
     ]
    }
   ],
   "source": [
    "index_counter = tf.Variable(0)\n",
    "one = tf.constant(1)\n",
    "\n",
    "new_index = tf.add(index_counter, one)\n",
    "update_ops = tf.assign(index_counter, new_index) # if the value change, you have to \"assign\" it\n",
    "\n",
    "init = tf.global_variables_initializer()\n",
    "sess.run(init)\n",
    "for _ in np.arange(10):\n",
    "    sess.run(update_ops)\n",
    "    print(sess.run(index_counter))"
   ]
  },
  {
   "cell_type": "markdown",
   "metadata": {},
   "source": [
    "## A linear regression example\n",
    "$ y = 3x + b $"
   ]
  },
  {
   "cell_type": "code",
   "execution_count": 16,
   "metadata": {
    "collapsed": false
   },
   "outputs": [
    {
     "data": {
      "image/png": "[encoded data removed]",
      "text/plain": [
       "<matplotlib.figure.Figure at 0x2614c161208>"
      ]
     },
     "metadata": {},
     "output_type": "display_data"
    },
    {
     "name": "stdout",
     "output_type": "stream",
     "text": [
      "step: 0, weight: 1.06556 bias: 0.31608\n",
      "step: 25, weight: 2.00053 bias: 1.05216\n",
      "step: 50, weight: 2.30047 bias: 0.892238\n",
      "step: 75, weight: 2.51425 bias: 0.777668\n",
      "step: 100, weight: 2.66679 bias: 0.695917\n",
      "step: 125, weight: 2.77563 bias: 0.637585\n",
      "step: 150, weight: 2.85329 bias: 0.595963\n",
      "step: 175, weight: 2.90871 bias: 0.566263\n",
      "step: 200, weight: 2.94825 bias: 0.545071\n",
      "step: 225, weight: 2.97647 bias: 0.52995\n",
      "step: 250, weight: 2.9966 bias: 0.519161\n",
      "step: 275, weight: 3.01096 bias: 0.511462\n",
      "step: 300, weight: 3.02121 bias: 0.505969\n",
      "step: 325, weight: 3.02853 bias: 0.502049\n",
      "step: 350, weight: 3.03375 bias: 0.499252\n",
      "step: 375, weight: 3.03747 bias: 0.497257\n",
      "step: 400, weight: 3.04013 bias: 0.495832\n",
      "step: 425, weight: 3.04202 bias: 0.494816\n",
      "step: 450, weight: 3.04338 bias: 0.494091\n",
      "step: 475, weight: 3.04434 bias: 0.493574\n"
     ]
    },
    {
     "data": {
      "image/png": "[encoded data removed]",
      "text/plain": [
       "<matplotlib.figure.Figure at 0x2614c28fdd8>"
      ]
     },
     "metadata": {},
     "output_type": "display_data"
    },
    {
     "data": {
      "image/png": "[encoded data removed]",
      "text/plain": [
       "<matplotlib.figure.Figure at 0x2614c161400>"
      ]
     },
     "metadata": {},
     "output_type": "display_data"
    }
   ],
   "source": [
    "tf.reset_default_graph()\n",
    "x_in = np.linspace(0, 1, 100)\n",
    "y_true = (3 * x_in) + np.random.rand(len(x_in))\n",
    "plt.plot(x_in, y_true, 'b.')\n",
    "plt.show()\n",
    "\n",
    "## build the regression fomula\n",
    "w1 = tf.Variable(tf.random_uniform([1], -1.0, 1.0), dtype= tf.float32)\n",
    "b1 = tf.Variable(tf.zeros([1]))\n",
    "\n",
    "y_pred = (w1 * x_in) + b1\n",
    "loss = tf.reduce_mean(tf.square(y_pred - y_true))\n",
    "\n",
    "optim = tf.train.GradientDescentOptimizer(0.1)\n",
    "train_ops = optim.minimize(loss)\n",
    "\n",
    "## train the model\n",
    "sess = tf.Session()\n",
    "init = tf.global_variables_initializer()\n",
    "sess.run(init)\n",
    "\n",
    "for step in np.arange(500):\n",
    "    sess.run(train_ops)\n",
    "    if step % 25 == 0:\n",
    "        print('step: ' + str(step) + ', weight: ' + str(sess.run(w1)[0]) + ' bias: ' + str(sess.run(b1)[0]) )\n",
    "        \n",
    "y_out = sess.run(y_pred)\n",
    "\n",
    "plt.plot(y_true, y_out, 'r.')\n",
    "plt.show()\n",
    "\n",
    "plt.plot(x_in, y_true, 'b.')\n",
    "plt.plot(x_in, y_out, 'r.')\n",
    "plt.show()\n",
    "\n",
    "sess.close()"
   ]
  },
  {
   "cell_type": "markdown",
   "metadata": {},
   "source": [
    "## Exercise\n",
    "### 請依照上面的 case, 計算 $y = 2x^2 + 3x + c$\n",
    "設定 x_in = np.linspace(0, 1, 100)\n"
   ]
  }
 ],
 "metadata": {
  "anaconda-cloud": {},
  "kernelspec": {
   "display_name": "Python [default]",
   "language": "python",
   "name": "python3"
  },
  "language_info": {
   "codemirror_mode": {
    "name": "ipython",
    "version": 3
   },
   "file_extension": ".py",
   "mimetype": "text/x-python",
   "name": "python",
   "nbconvert_exporter": "python",
   "pygments_lexer": "ipython3",
   "version": "3.5.2"
  }
 },
 "nbformat": 4,
 "nbformat_minor": 1
}
