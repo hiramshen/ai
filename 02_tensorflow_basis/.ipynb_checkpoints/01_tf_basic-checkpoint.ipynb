{
 "cells": [
  {
   "cell_type": "markdown",
   "metadata": {},
   "source": [
    "# Here, we decide to learn tensorflow from a simple example directly!"
   ]
  },
  {
   "cell_type": "markdown",
   "metadata": {},
   "source": [
    "## General writing flow\n",
    "1. import required libraries\n",
    "2. load data and do some data pre-processing\n",
    "3. split your data into training and validation set\n",
    "4. build the network\n",
    "5. train the model and record/monitoring the performance"
   ]
  },
  {
   "cell_type": "markdown",
   "metadata": {},
   "source": [
    "## 1. Import required libries and set some parameters "
   ]
  },
  {
   "cell_type": "code",
   "execution_count": 8,
   "metadata": {
    "collapsed": true
   },
   "outputs": [],
   "source": [
    "from sklearn.model_selection import train_test_split\n",
    "from sklearn.utils import shuffle\n",
    "import numpy as np\n",
    "import os\n",
    "import argparse\n",
    "from tqdm import tqdm\n",
    "import matplotlib.pyplot as plt"
   ]
  },
  {
   "cell_type": "code",
   "execution_count": 9,
   "metadata": {
    "collapsed": true
   },
   "outputs": [],
   "source": [
    "parser = argparse.ArgumentParser()\n",
    "parser.add_argument('--batch_size', default = 32, type = int)\n",
    "parser.add_argument('--epochs', default = 100, type = int)\n",
    "parser.add_argument('--lr', default = 0.001, type = float)\n",
    "parser.add_argument('--train_ratio', default = 0.9, type = float)\n",
    "\n",
    "FLAGS = parser.parse_args([]) # if not jupyter notebook, remove []"
   ]
  },
  {
   "cell_type": "code",
   "execution_count": 10,
   "metadata": {
    "collapsed": false
   },
   "outputs": [],
   "source": [
    "# You should always set visible devices before import tensorflow\n",
    "#os.environ['CUDA_VISIBLE_DEVICES'] = str(FLAGS.gpu_id)\n",
    "import tensorflow as tf"
   ]
  },
  {
   "cell_type": "markdown",
   "metadata": {},
   "source": [
    "## 2. Load data and do some pre-processing\n",
    "We use MNIST HERE (with sklearn 8x8 version rather than use tensorflow 28x28 version)"
   ]
  },
  {
   "cell_type": "code",
   "execution_count": 11,
   "metadata": {
    "collapsed": false
   },
   "outputs": [],
   "source": [
    "from sklearn.datasets import load_digits\n",
    "# load data\n",
    "digits = load_digits()\n",
    "x_, y_ = digits.data, digits.target\n",
    "\n",
    "# do data pre-processing\n",
    "x_ = x_ / x_.max()\n",
    "\n",
    "y_one_hot = np.zeros((len(y_), 10))\n",
    "y_one_hot[np.arange(len(y_)), y_] = 1\n",
    "\n",
    "# "
   ]
  },
  {
   "cell_type": "markdown",
   "metadata": {},
   "source": [
    "## 3. split your data into training and validation sets"
   ]
  },
  {
   "cell_type": "code",
   "execution_count": 12,
   "metadata": {
    "collapsed": false
   },
   "outputs": [
    {
     "name": "stdout",
     "output_type": "stream",
     "text": [
      "training set data dimension\n",
      "(1536, 64)\n",
      "(1536, 10)\n",
      "-----------\n",
      "training set: 1536\n",
      "validation set: 171\n",
      "testing set: 90\n"
     ]
    }
   ],
   "source": [
    "x_train, x_test, y_train, y_test = train_test_split(x_, \n",
    "                                                    y_one_hot, \n",
    "                                                    test_size = 0.05, \n",
    "                                                    stratify  = y_)\n",
    "\n",
    "x_train, x_valid, y_train, y_valid = train_test_split(x_train, \n",
    "                                                      y_train, \n",
    "                                                      test_size = 1.0 - FLAGS.train_ratio,\n",
    "                                                      stratify = y_train.argmax(axis = 1))\n",
    "print(\"training set data dimension\")\n",
    "print(x_train.shape)\n",
    "print(y_train.shape)\n",
    "print(\"-----------\")\n",
    "print(\"training set: %i\" % len(x_train))\n",
    "print(\"validation set: %i\" % len(x_valid))\n",
    "print(\"testing set: %i\" % len(x_test))"
   ]
  },
  {
   "cell_type": "markdown",
   "metadata": {},
   "source": [
    "## 4a. build the network with low-level tensor elements"
   ]
  },
  {
   "cell_type": "code",
   "execution_count": 6,
   "metadata": {
    "collapsed": false
   },
   "outputs": [],
   "source": [
    "tf.reset_default_graph() # clean graph\n",
    "# Declare the input node\n",
    "with tf.name_scope('input'):\n",
    "    x_input = tf.placeholder(shape = (None,x_train.shape[1]), \n",
    "                             name = 'x_input',\n",
    "                             dtype=tf.float32)\n",
    "    y_out = tf.placeholder(shape = (None, y_train.shape[1]), \n",
    "                           name = 'y_label',\n",
    "                           dtype=tf.float32)\n",
    "    \n",
    "with tf.variable_scope('hidden_layer'):\n",
    "    w1 = tf.get_variable('weight1', \n",
    "                         shape= [x_train.shape[1], 25], \n",
    "                         dtype=tf.float32, \n",
    "                         initializer=tf.truncated_normal_initializer(stddev=0.1))\n",
    "    b1 = tf.Variable(tf.zeros(shape=[25]))\n",
    "    x_h1 = tf.nn.relu(tf.add(tf.matmul(x_input, w1), b1))\n",
    "    \n",
    "with tf.variable_scope('output_layer'):\n",
    "    w2 = tf.Variable(tf.truncated_normal(shape=[25, y_train.shape[1]],stddev=0.1),\n",
    "                     dtype = tf.float32)\n",
    "    b2 = tf.get_variable('bias2', \n",
    "                         shape=[y_train.shape[1]], \n",
    "                         dtype=tf.float32, \n",
    "                         initializer=tf.constant_initializer(0.0))\n",
    "    output = tf.add(tf.matmul(x_h1, w2), b2)\n",
    "    \n",
    "with tf.name_scope('cross_entropy'):\n",
    "    loss = tf.reduce_mean(tf.nn.softmax_cross_entropy_with_logits(logits=output, labels=y_out))\n",
    "    \n",
    "with tf.name_scope('accuracy'):\n",
    "    correct_prediction = tf.equal(tf.argmax(tf.nn.softmax(output),1), tf.argmax(y_out,1))\n",
    "    compute_acc = tf.reduce_mean(tf.cast(correct_prediction, tf.float32))\n",
    "\n",
    "with tf.name_scope('train'):\n",
    "    train_step = tf.train.AdamOptimizer(learning_rate=FLAGS.lr).minimize(loss)"
   ]
  },
  {
   "cell_type": "markdown",
   "metadata": {},
   "source": [
    "## 5a. Train the model and collect the performance"
   ]
  },
  {
   "cell_type": "code",
   "execution_count": 13,
   "metadata": {
    "collapsed": false
   },
   "outputs": [
    {
     "name": "stderr",
     "output_type": "stream",
     "text": [
      "100%|████████████████████████████████████████████████████████████████████████████████| 100/100 [00:23<00:00,  4.19it/s]\n"
     ]
    },
    {
     "name": "stdout",
     "output_type": "stream",
     "text": [
      "--- training done ---\n",
      "testing accuracy: 1.00\n"
     ]
    },
    {
     "data": {
      "image/png": "[encoded data removed]",
      "text/plain": [
       "<matplotlib.figure.Figure at 0x294eeca3208>"
      ]
     },
     "metadata": {},
     "output_type": "display_data"
    },
    {
     "data": {
      "image/png": "[encoded data removed]",
      "text/plain": [
       "<matplotlib.figure.Figure at 0x294eee07470>"
      ]
     },
     "metadata": {},
     "output_type": "display_data"
    }
   ],
   "source": [
    "train_loss_list, valid_loss_list = [], []\n",
    "train_acc_list, valid_acc_list = [], []\n",
    "\n",
    "with tf.Session() as sess:\n",
    "    # we have to initalize all variables (e.g. weights/biases) at the begin\n",
    "    sess.run([tf.global_variables_initializer()])\n",
    "    # writer = tf.summary.FileWriter(\"./graph/\", sess.graph)\n",
    "    for i in tqdm(range(FLAGS.epochs)):\n",
    "        # get batch \n",
    "        total_batch = int(np.floor(len(x_train) / FLAGS.batch_size)) # just drop last few sample ...\n",
    "        \n",
    "        train_loss_collector, train_acc_collector = [], []\n",
    "        for j in np.arange(total_batch):\n",
    "            batch_idx_start = j * FLAGS.batch_size\n",
    "            batch_idx_stop = (j+1) * FLAGS.batch_size\n",
    "\n",
    "            x_batch = x_train[batch_idx_start : batch_idx_stop]\n",
    "            y_batch = y_train[batch_idx_start : batch_idx_stop]\n",
    "            \n",
    "            this_loss, this_acc, _ = sess.run([loss, compute_acc, train_step],\n",
    "                                    feed_dict = {x_input: x_batch,\n",
    "                                                 y_out: y_batch})\n",
    "            train_loss_collector.append(this_loss)\n",
    "            train_acc_collector.append(this_acc)\n",
    "            \n",
    "        # do validation at the end of each epoch\n",
    "        valid_acc, valid_loss = sess.run([compute_acc, loss],\n",
    "                                         feed_dict = {x_input: x_valid,\n",
    "                                                      y_out : y_valid})\n",
    "        valid_loss_list.append(valid_loss)\n",
    "        valid_acc_list.append(valid_acc)\n",
    "        train_loss_list.append(np.mean(train_loss_collector))\n",
    "        train_acc_list.append(np.mean(train_acc_collector))\n",
    "\n",
    "        # at the end of each epoch, shuffle the data\n",
    "        x_train, y_train = shuffle(x_train, y_train)\n",
    "    # At the end of the training, do testing set\n",
    "    test_acc, test_loss = sess.run([compute_acc, loss],\n",
    "                                    feed_dict = {x_input: x_test,\n",
    "                                                 y_out : y_test})\n",
    "print('--- training done ---')\n",
    "print('testing accuracy: %.2f' % test_acc)\n",
    "\n",
    "plt.plot(np.arange(len(train_loss_list)), train_loss_list, 'b', label = 'train')\n",
    "plt.plot(np.arange(len(valid_loss_list)), valid_loss_list, 'r', label = 'valid')\n",
    "plt.legend()\n",
    "plt.show()\n",
    "\n",
    "plt.plot(np.arange(len(train_acc_list)), train_acc_list, 'b', label = 'train')\n",
    "plt.plot(np.arange(len(valid_acc_list)), valid_acc_list, 'r', label = 'valid')\n",
    "plt.legend(loc = 4)\n",
    "plt.show()"
   ]
  },
  {
   "cell_type": "markdown",
   "metadata": {},
   "source": [
    "## 4b. build the network with \"layer\" "
   ]
  },
  {
   "cell_type": "code",
   "execution_count": 14,
   "metadata": {
    "collapsed": false
   },
   "outputs": [],
   "source": [
    "tf.reset_default_graph() # clean graph\n",
    "# Declare the input node\n",
    "with tf.name_scope('input'):\n",
    "    x_input = tf.placeholder(shape = (None,x_train.shape[1]), \n",
    "                             name = 'x_input',\n",
    "                             dtype=tf.float32)\n",
    "    y_out = tf.placeholder(shape = (None, y_train.shape[1]), \n",
    "                           name = 'y_label',\n",
    "                           dtype=tf.float32)\n",
    "\n",
    "# Declare the network structure\n",
    "with tf.variable_scope('hidden_layer'):\n",
    "    x_h1 = tf.layers.dense(inputs= x_input, units= 25, activation=tf.nn.relu)\n",
    "\n",
    "with tf.variable_scope('output_layer'):\n",
    "    output = tf.layers.dense(x_h1, 10)\n",
    "\n",
    "with tf.name_scope('cross_entropy'):\n",
    "    loss = tf.reduce_mean(tf.nn.softmax_cross_entropy_with_logits(logits=output, labels=y_out))\n",
    "    \n",
    "with tf.name_scope('accuracy'):\n",
    "    correct_prediction = tf.equal(tf.argmax(tf.nn.softmax(output),1), tf.argmax(y_out,1))\n",
    "    compute_acc = tf.reduce_mean(tf.cast(correct_prediction, tf.float32))\n",
    "\n",
    "with tf.name_scope('train'):\n",
    "    train_step = tf.train.AdamOptimizer(learning_rate=FLAGS.lr).minimize(loss)"
   ]
  },
  {
   "cell_type": "markdown",
   "metadata": {},
   "source": [
    "## 5b. Train the model and collect the performance"
   ]
  },
  {
   "cell_type": "code",
   "execution_count": 15,
   "metadata": {
    "collapsed": false
   },
   "outputs": [
    {
     "name": "stderr",
     "output_type": "stream",
     "text": [
      "100%|████████████████████████████████████████████████████████████████████████████████| 100/100 [00:24<00:00,  4.09it/s]\n"
     ]
    },
    {
     "name": "stdout",
     "output_type": "stream",
     "text": [
      "--- training done ---\n",
      "testing accuracy: 1.00\n"
     ]
    },
    {
     "data": {
      "image/png": "[encoded data removed]",
      "text/plain": [
       "<matplotlib.figure.Figure at 0x294eed8dac8>"
      ]
     },
     "metadata": {},
     "output_type": "display_data"
    },
    {
     "data": {
      "image/png": "[encoded data removed]",
      "text/plain": [
       "<matplotlib.figure.Figure at 0x294d6220240>"
      ]
     },
     "metadata": {},
     "output_type": "display_data"
    }
   ],
   "source": [
    "train_loss_list, valid_loss_list = [], []\n",
    "train_acc_list, valid_acc_list = [], []\n",
    "\n",
    "with tf.Session() as sess:\n",
    "    # we have to initalize all variables (e.g. weights/biases) at the begin\n",
    "    sess.run([tf.global_variables_initializer()])\n",
    "    \n",
    "    for i in tqdm(range(FLAGS.epochs)):\n",
    "        # get batch \n",
    "        total_batch = int(np.floor(len(x_train) / FLAGS.batch_size)) # just drop last few sample ...\n",
    "        \n",
    "        train_loss_collector, train_acc_collector = [], []\n",
    "        for j in np.arange(total_batch):\n",
    "            batch_idx_start = j * FLAGS.batch_size\n",
    "            batch_idx_stop = (j+1) * FLAGS.batch_size\n",
    "\n",
    "            x_batch = x_train[batch_idx_start : batch_idx_stop]\n",
    "            y_batch = y_train[batch_idx_start : batch_idx_stop]\n",
    "            \n",
    "            this_loss, this_acc, _ = sess.run([loss, compute_acc,train_step],\n",
    "                                    feed_dict = {x_input: x_batch,\n",
    "                                                 y_out: y_batch})\n",
    "            train_loss_collector.append(this_loss)\n",
    "            train_acc_collector.append(this_acc)\n",
    "            \n",
    "        # do validation at the end of each epoch\n",
    "        valid_acc, valid_loss = sess.run([compute_acc, loss],\n",
    "                                         feed_dict = {x_input: x_valid,\n",
    "                                                      y_out : y_valid})\n",
    "        valid_loss_list.append(valid_loss)\n",
    "        valid_acc_list.append(valid_acc)\n",
    "        train_loss_list.append(np.mean(train_loss_collector))\n",
    "        train_acc_list.append(np.mean(train_acc_collector))\n",
    "\n",
    "        # at the end of each epoch, shuffle the data\n",
    "        x_train, y_train = shuffle(x_train, y_train)\n",
    "    # At the end of the training, do testing set\n",
    "    test_acc, test_loss = sess.run([compute_acc, loss],\n",
    "                                    feed_dict = {x_input: x_test,\n",
    "                                                 y_out : y_test})\n",
    "print('--- training done ---')\n",
    "print('testing accuracy: %.2f' % test_acc)\n",
    "\n",
    "plt.plot(np.arange(len(train_loss_list)), train_loss_list, 'b', label = 'train')\n",
    "plt.plot(np.arange(len(valid_loss_list)), valid_loss_list, 'r', label = 'valid')\n",
    "plt.legend()\n",
    "plt.show()\n",
    "\n",
    "plt.plot(np.arange(len(train_acc_list)), train_acc_list, 'b', label = 'train')\n",
    "plt.plot(np.arange(len(valid_acc_list)), valid_acc_list, 'r', label = 'valid')\n",
    "plt.legend(loc = 4)\n",
    "plt.show()"
   ]
  },
  {
   "cell_type": "code",
   "execution_count": null,
   "metadata": {
    "collapsed": false
   },
   "outputs": [],
   "source": [
    "### Exercise1: \n",
    "# 用自訂義的 variables and bias 做成 3 個 hidden layer (25, 25, 25) 的 Neural netowrk\n",
    "\n",
    "### Exercise2: \n",
    "# 用 tf.layers 做成 3 個 hidden layer (25, 25, 25) 的 Neural netowrk\n"
   ]
  }
 ],
 "metadata": {
  "anaconda-cloud": {},
  "kernelspec": {
   "display_name": "Python [default]",
   "language": "python",
   "name": "python3"
  },
  "language_info": {
   "codemirror_mode": {
    "name": "ipython",
    "version": 3
   },
   "file_extension": ".py",
   "mimetype": "text/x-python",
   "name": "python",
   "nbconvert_exporter": "python",
   "pygments_lexer": "ipython3",
   "version": "3.5.2"
  }
 },
 "nbformat": 4,
 "nbformat_minor": 1
}
